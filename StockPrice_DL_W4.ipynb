{
 "cells": [
  {
   "cell_type": "code",
   "execution_count": null,
   "metadata": {
    "id": "IJwzHGtwlJIC"
   },
   "outputs": [],
   "source": [
    "import numpy as np  \n",
    "import matplotlib.pyplot as plt  \n",
    "import pandas as pd  \n",
    "import math\n",
    "from keras.models import Sequential\n",
    "from keras.layers import Dense, LSTM, Dropout\n",
    "from sklearn.preprocessing import MinMaxScaler\n",
    "from sklearn.metrics import mean_squared_error"
   ]
  },
  {
   "cell_type": "code",
   "execution_count": null,
   "metadata": {
    "colab": {
     "base_uri": "https://localhost:8080/",
     "height": 72,
     "resources": {
      "http://localhost:8080/nbextensions/google.colab/files.js": {
       "data": "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",
       "headers": [
        [
         "content-type",
         "application/javascript"
        ]
       ],
       "ok": true,
       "status": 200,
       "status_text": ""
      }
     }
    },
    "id": "BtmG1AzNlJIP",
    "outputId": "66f4505a-0d7f-4705-8ead-d2baf1bd1cb7"
   },
   "outputs": [
    {
     "data": {
      "text/html": [
       "\n",
       "     <input type=\"file\" id=\"files-0cca1d3c-b866-4c10-9a12-3c81b8f3ad7f\" name=\"files[]\" multiple disabled\n",
       "        style=\"border:none\" />\n",
       "     <output id=\"result-0cca1d3c-b866-4c10-9a12-3c81b8f3ad7f\">\n",
       "      Upload widget is only available when the cell has been executed in the\n",
       "      current browser session. Please rerun this cell to enable.\n",
       "      </output>\n",
       "      <script src=\"/nbextensions/google.colab/files.js\"></script> "
      ],
      "text/plain": [
       "<IPython.core.display.HTML object>"
      ]
     },
     "metadata": {
      "tags": []
     },
     "output_type": "display_data"
    },
    {
     "name": "stdout",
     "output_type": "stream",
     "text": [
      "Saving AAPL.csv to AAPL (3).csv\n"
     ]
    }
   ],
   "source": [
    "from google.colab import files\n",
    "uploaded = files.upload()"
   ]
  },
  {
   "cell_type": "code",
   "execution_count": null,
   "metadata": {
    "colab": {
     "base_uri": "https://localhost:8080/",
     "height": 204
    },
    "id": "2UBI3hOOlJIU",
    "outputId": "893901e5-059c-4a85-df6e-2d596affbd2a"
   },
   "outputs": [
    {
     "data": {
      "text/html": [
       "<div>\n",
       "<style scoped>\n",
       "    .dataframe tbody tr th:only-of-type {\n",
       "        vertical-align: middle;\n",
       "    }\n",
       "\n",
       "    .dataframe tbody tr th {\n",
       "        vertical-align: top;\n",
       "    }\n",
       "\n",
       "    .dataframe thead th {\n",
       "        text-align: right;\n",
       "    }\n",
       "</style>\n",
       "<table border=\"1\" class=\"dataframe\">\n",
       "  <thead>\n",
       "    <tr style=\"text-align: right;\">\n",
       "      <th></th>\n",
       "      <th>Date</th>\n",
       "      <th>Open</th>\n",
       "      <th>High</th>\n",
       "      <th>Low</th>\n",
       "      <th>Close</th>\n",
       "      <th>Adj Close</th>\n",
       "      <th>Volume</th>\n",
       "    </tr>\n",
       "  </thead>\n",
       "  <tbody>\n",
       "    <tr>\n",
       "      <th>0</th>\n",
       "      <td>2009-12-01</td>\n",
       "      <td>1.502857</td>\n",
       "      <td>1.560714</td>\n",
       "      <td>1.500000</td>\n",
       "      <td>1.550714</td>\n",
       "      <td>1.034021</td>\n",
       "      <td>90384000</td>\n",
       "    </tr>\n",
       "    <tr>\n",
       "      <th>1</th>\n",
       "      <td>2009-12-02</td>\n",
       "      <td>1.542857</td>\n",
       "      <td>1.564286</td>\n",
       "      <td>1.529286</td>\n",
       "      <td>1.538571</td>\n",
       "      <td>1.025924</td>\n",
       "      <td>51324000</td>\n",
       "    </tr>\n",
       "    <tr>\n",
       "      <th>2</th>\n",
       "      <td>2009-12-03</td>\n",
       "      <td>1.538571</td>\n",
       "      <td>1.560000</td>\n",
       "      <td>1.497143</td>\n",
       "      <td>1.502143</td>\n",
       "      <td>1.001633</td>\n",
       "      <td>47824000</td>\n",
       "    </tr>\n",
       "    <tr>\n",
       "      <th>3</th>\n",
       "      <td>2009-12-04</td>\n",
       "      <td>1.495714</td>\n",
       "      <td>1.512143</td>\n",
       "      <td>1.483571</td>\n",
       "      <td>1.510714</td>\n",
       "      <td>1.007349</td>\n",
       "      <td>44485000</td>\n",
       "    </tr>\n",
       "    <tr>\n",
       "      <th>4</th>\n",
       "      <td>2009-12-05</td>\n",
       "      <td>1.492857</td>\n",
       "      <td>1.510714</td>\n",
       "      <td>1.480714</td>\n",
       "      <td>1.489286</td>\n",
       "      <td>0.993060</td>\n",
       "      <td>46544400</td>\n",
       "    </tr>\n",
       "  </tbody>\n",
       "</table>\n",
       "</div>"
      ],
      "text/plain": [
       "         Date      Open      High       Low     Close  Adj Close    Volume\n",
       "0  2009-12-01  1.502857  1.560714  1.500000  1.550714   1.034021  90384000\n",
       "1  2009-12-02  1.542857  1.564286  1.529286  1.538571   1.025924  51324000\n",
       "2  2009-12-03  1.538571  1.560000  1.497143  1.502143   1.001633  47824000\n",
       "3  2009-12-04  1.495714  1.512143  1.483571  1.510714   1.007349  44485000\n",
       "4  2009-12-05  1.492857  1.510714  1.480714  1.489286   0.993060  46544400"
      ]
     },
     "execution_count": 68,
     "metadata": {
      "tags": []
     },
     "output_type": "execute_result"
    }
   ],
   "source": [
    "dataset = pd.read_csv('AAPL.csv')\n",
    "dataset.head()"
   ]
  },
  {
   "cell_type": "code",
   "execution_count": null,
   "metadata": {
    "colab": {
     "base_uri": "https://localhost:8080/"
    },
    "id": "lFoQvGB-lJIb",
    "outputId": "2e622b66-6428-4a76-876d-3a44277d5097"
   },
   "outputs": [
    {
     "name": "stdout",
     "output_type": "stream",
     "text": [
      "<class 'pandas.core.frame.DataFrame'>\n",
      "RangeIndex: 3853 entries, 0 to 3852\n",
      "Data columns (total 7 columns):\n",
      " #   Column     Non-Null Count  Dtype  \n",
      "---  ------     --------------  -----  \n",
      " 0   Date       3853 non-null   object \n",
      " 1   Open       3853 non-null   float64\n",
      " 2   High       3853 non-null   float64\n",
      " 3   Low        3853 non-null   float64\n",
      " 4   Close      3853 non-null   float64\n",
      " 5   Adj Close  3853 non-null   float64\n",
      " 6   Volume     3853 non-null   int64  \n",
      "dtypes: float64(5), int64(1), object(1)\n",
      "memory usage: 210.8+ KB\n"
     ]
    },
    {
     "data": {
      "text/plain": [
       "(3853, 7)"
      ]
     },
     "execution_count": 69,
     "metadata": {
      "tags": []
     },
     "output_type": "execute_result"
    }
   ],
   "source": [
    "dataset.info()\n",
    "dataset.shape"
   ]
  },
  {
   "cell_type": "code",
   "execution_count": null,
   "metadata": {
    "colab": {
     "base_uri": "https://localhost:8080/",
     "height": 265
    },
    "id": "pNZDrOwflJIg",
    "outputId": "ef61c292-5e28-4807-af86-0a0d3dd4e674"
   },
   "outputs": [
    {
     "data": {
      "image/png": "[encoded data removed]",
      "text/plain": [
       "<Figure size 432x288 with 1 Axes>"
      ]
     },
     "metadata": {
      "needs_background": "light",
      "tags": []
     },
     "output_type": "display_data"
    }
   ],
   "source": [
    "plt.plot(dataset[\"Open\"])\n",
    "plt.show()"
   ]
  },
  {
   "cell_type": "markdown",
   "metadata": {
    "id": "Ak1dPP86lJIx"
   },
   "source": [
    "Predict the opening stock price of the data based on the opening stock prices for the past 60 days. So we need to only focus on the \"Open\" column."
   ]
  },
  {
   "cell_type": "code",
   "execution_count": null,
   "metadata": {
    "colab": {
     "base_uri": "https://localhost:8080/"
    },
    "id": "N719yoWQlJIy",
    "outputId": "3d649ea4-8ca6-4a55-f63c-9ab742b9a5b0"
   },
   "outputs": [
    {
     "data": {
      "text/plain": [
       "0    1.502857\n",
       "1    1.542857\n",
       "2    1.538571\n",
       "3    1.495714\n",
       "4    1.492857\n",
       "Name: Open, dtype: float64"
      ]
     },
     "execution_count": 71,
     "metadata": {
      "tags": []
     },
     "output_type": "execute_result"
    }
   ],
   "source": [
    "dataset2=dataset['Open']\n",
    "dataset2.head()"
   ]
  },
  {
   "cell_type": "code",
   "execution_count": null,
   "metadata": {
    "colab": {
     "base_uri": "https://localhost:8080/"
    },
    "id": "7liMCMS8l_bJ",
    "outputId": "b968b419-b07b-4698-c49b-8d69b62370fe"
   },
   "outputs": [
    {
     "data": {
      "text/plain": [
       "(3853, 1)"
      ]
     },
     "execution_count": 72,
     "metadata": {
      "tags": []
     },
     "output_type": "execute_result"
    }
   ],
   "source": [
    "dataset2=pd.DataFrame(dataset2)\n",
    "dataset2.shape"
   ]
  },
  {
   "cell_type": "markdown",
   "metadata": {
    "id": "69SWcJ7A8rQa"
   },
   "source": [
    "Here, we do feature scaling (standard scaling) to speed up the training."
   ]
  },
  {
   "cell_type": "code",
   "execution_count": null,
   "metadata": {
    "colab": {
     "base_uri": "https://localhost:8080/"
    },
    "id": "oz7b66exlJI0",
    "outputId": "56290161-2e4a-4d38-b388-fde11a325bff"
   },
   "outputs": [
    {
     "data": {
      "text/plain": [
       "array([[0.00043285],\n",
       "       [0.00060724],\n",
       "       [0.00058855],\n",
       "       [0.00040171],\n",
       "       [0.00038926],\n",
       "       [0.00035189],\n",
       "       [0.00047334],\n",
       "       [0.00024912],\n",
       "       [0.00018685],\n",
       "       [0.00052004]])"
      ]
     },
     "execution_count": 73,
     "metadata": {
      "tags": []
     },
     "output_type": "execute_result"
    }
   ],
   "source": [
    "scaler = MinMaxScaler(feature_range=(0, 1))\n",
    "dataset2 = scaler.fit_transform(dataset2)\n",
    "dataset2[:10,:]"
   ]
  },
  {
   "cell_type": "markdown",
   "metadata": {
    "id": "RdKVsSLE88G9"
   },
   "source": [
    "Here, we separate the train and test sets. We keep 30% of the dataset for tesing purposes."
   ]
  },
  {
   "cell_type": "code",
   "execution_count": null,
   "metadata": {
    "colab": {
     "base_uri": "https://localhost:8080/"
    },
    "id": "3ZxluE6XWtW_",
    "outputId": "aed3e0cf-c41c-4568-9851-cb97199298a8"
   },
   "outputs": [
    {
     "name": "stdout",
     "output_type": "stream",
     "text": [
      "2697 1156\n"
     ]
    }
   ],
   "source": [
    "train_size = int(len(dataset2) * 0.7)\n",
    "test_size = len(dataset2) - train_size\n",
    "train, test = dataset2[0:train_size,:], dataset2[train_size:len(dataset2),:]\n",
    "print(len(train), len(test))"
   ]
  },
  {
   "cell_type": "markdown",
   "metadata": {
    "id": "wLREWCdKp87z"
   },
   "source": [
    "Given the current time (t) we want to predict the opening stock price at the next time in the sequence (t+1), we can use the current time (t), as well as the 59 prior times (t-1, t-2, till t-59) as input variables.\n",
    "\n",
    "So the problem in hand is the regression problem, the input variables are t-59, ..., t-1, t and the output variable is t+1."
   ]
  },
  {
   "cell_type": "code",
   "execution_count": null,
   "metadata": {
    "id": "00jXTGUoqhh-"
   },
   "outputs": [],
   "source": [
    "lag=60\n",
    "for i in range(60):\n",
    "  trainT=train[i:-lag+i,:]\n",
    "  testT=test[i:-lag+i,:]\n",
    "  if i==0: \n",
    "    trainX=trainT\n",
    "    testX=testT\n",
    "  else:\n",
    "    trainX=np.hstack((trainX,trainT))\n",
    "    testX=np.hstack((testX,testT))\n",
    "    \n",
    "trainY=train[lag:,:]    \n",
    "testY=test[lag:,:]"
   ]
  },
  {
   "cell_type": "code",
   "execution_count": null,
   "metadata": {
    "colab": {
     "base_uri": "https://localhost:8080/"
    },
    "id": "NM8BtRA5uE_m",
    "outputId": "fd4e5fd2-6ace-4621-8461-79f48f4b592a"
   },
   "outputs": [
    {
     "data": {
      "text/plain": [
       "(2637, 60)"
      ]
     },
     "execution_count": 78,
     "metadata": {
      "tags": []
     },
     "output_type": "execute_result"
    }
   ],
   "source": [
    "np.shape(trainX)"
   ]
  },
  {
   "cell_type": "code",
   "execution_count": null,
   "metadata": {
    "colab": {
     "base_uri": "https://localhost:8080/"
    },
    "id": "b3AxZz2Wt46m",
    "outputId": "2f9523da-15c3-42f4-dd5d-4a2d3fe6e3e6"
   },
   "outputs": [
    {
     "data": {
      "text/plain": [
       "(2637, 1)"
      ]
     },
     "execution_count": 79,
     "metadata": {
      "tags": []
     },
     "output_type": "execute_result"
    }
   ],
   "source": [
    "np.shape(trainY)"
   ]
  },
  {
   "cell_type": "markdown",
   "metadata": {
    "id": "Tsf9af7e9xnx"
   },
   "source": [
    "Here, we need to reshape both the train set and the test set to be compatibe with LSTM layer in Keras: (batch, timestep, features)"
   ]
  },
  {
   "cell_type": "code",
   "execution_count": null,
   "metadata": {
    "id": "ctfPiE7rugmj"
   },
   "outputs": [],
   "source": [
    "trainX = trainX.reshape((trainX.shape[0], trainX.shape[1],1))\n",
    "testX = testX.reshape((testX.shape[0], testX.shape[1],1)) "
   ]
  },
  {
   "cell_type": "code",
   "execution_count": null,
   "metadata": {
    "colab": {
     "base_uri": "https://localhost:8080/"
    },
    "id": "YAxujsj5uhfR",
    "outputId": "461fcbb7-109d-4f1a-d480-4ffdd7e3d15c"
   },
   "outputs": [
    {
     "data": {
      "text/plain": [
       "(2637, 60, 1)"
      ]
     },
     "execution_count": 81,
     "metadata": {
      "tags": []
     },
     "output_type": "execute_result"
    }
   ],
   "source": [
    "np.shape(trainX)"
   ]
  },
  {
   "cell_type": "markdown",
   "metadata": {
    "id": "PSmg5TDAu1WD"
   },
   "source": [
    "Data is now ready to be used as input (X) to the LSTM with an input_shape of (second, third)."
   ]
  },
  {
   "cell_type": "markdown",
   "metadata": {
    "id": "gQelmtPylJI3"
   },
   "source": [
    "Now, we build our model: Add 2 LSTM layers and a dense layer as the last layer of the model"
   ]
  },
  {
   "cell_type": "code",
   "execution_count": null,
   "metadata": {
    "id": "pfkjMbXMlJI4"
   },
   "outputs": [],
   "source": [
    "model = Sequential()\n",
    "model.add(LSTM(50, input_shape=(np.shape(trainX[1,:])), return_sequences=True))\n",
    "model.add(Dropout(0.5))\n",
    "model.add(LSTM(50))\n",
    "model.add(Dropout(0.5))\n",
    "model.add(Dense(1))"
   ]
  },
  {
   "cell_type": "code",
   "execution_count": null,
   "metadata": {
    "colab": {
     "base_uri": "https://localhost:8080/"
    },
    "id": "wEdZaZQx0htl",
    "outputId": "56ccf53e-8e66-47ee-9934-a00314c49fe0"
   },
   "outputs": [
    {
     "name": "stdout",
     "output_type": "stream",
     "text": [
      "Model: \"sequential_14\"\n",
      "_________________________________________________________________\n",
      "Layer (type)                 Output Shape              Param #   \n",
      "=================================================================\n",
      "lstm_30 (LSTM)               (None, 60, 50)            10400     \n",
      "_________________________________________________________________\n",
      "dropout_18 (Dropout)         (None, 60, 50)            0         \n",
      "_________________________________________________________________\n",
      "lstm_31 (LSTM)               (None, 50)                20200     \n",
      "_________________________________________________________________\n",
      "dropout_19 (Dropout)         (None, 50)                0         \n",
      "_________________________________________________________________\n",
      "dense_2 (Dense)              (None, 1)                 51        \n",
      "=================================================================\n",
      "Total params: 30,651\n",
      "Trainable params: 30,651\n",
      "Non-trainable params: 0\n",
      "_________________________________________________________________\n"
     ]
    }
   ],
   "source": [
    "model.summary()"
   ]
  },
  {
   "cell_type": "markdown",
   "metadata": {
    "id": "qLOEmc38lj4U"
   },
   "source": [
    "Train the model and elaborare /apply hyper-parameter optimization\n"
   ]
  },
  {
   "cell_type": "code",
   "execution_count": null,
   "metadata": {
    "colab": {
     "base_uri": "https://localhost:8080/"
    },
    "id": "N2fqeM8NlJJA",
    "outputId": "0514d013-7f7e-4d61-ecc5-634ed7e6e5c1"
   },
   "outputs": [
    {
     "name": "stdout",
     "output_type": "stream",
     "text": [
      "Epoch 1/100\n",
      "2637/2637 - 53s - loss: 0.0011\n",
      "Epoch 2/100\n",
      "2637/2637 - 51s - loss: 8.0890e-04\n",
      "Epoch 3/100\n",
      "2637/2637 - 51s - loss: 7.7481e-04\n",
      "Epoch 4/100\n",
      "2637/2637 - 51s - loss: 7.4250e-04\n",
      "Epoch 5/100\n",
      "2637/2637 - 51s - loss: 6.3192e-04\n",
      "Epoch 6/100\n",
      "2637/2637 - 51s - loss: 6.8521e-04\n",
      "Epoch 7/100\n",
      "2637/2637 - 51s - loss: 6.3568e-04\n",
      "Epoch 8/100\n",
      "2637/2637 - 51s - loss: 6.3365e-04\n",
      "Epoch 9/100\n",
      "2637/2637 - 51s - loss: 6.4713e-04\n",
      "Epoch 10/100\n",
      "2637/2637 - 52s - loss: 6.0803e-04\n",
      "Epoch 11/100\n",
      "2637/2637 - 51s - loss: 5.8228e-04\n",
      "Epoch 12/100\n",
      "2637/2637 - 51s - loss: 6.2707e-04\n",
      "Epoch 13/100\n",
      "2637/2637 - 51s - loss: 6.0280e-04\n",
      "Epoch 14/100\n",
      "2637/2637 - 51s - loss: 6.1471e-04\n",
      "Epoch 15/100\n",
      "2637/2637 - 51s - loss: 5.5757e-04\n",
      "Epoch 16/100\n",
      "2637/2637 - 51s - loss: 5.4927e-04\n",
      "Epoch 17/100\n",
      "2637/2637 - 51s - loss: 5.2974e-04\n",
      "Epoch 18/100\n",
      "2637/2637 - 51s - loss: 5.6874e-04\n",
      "Epoch 19/100\n",
      "2637/2637 - 51s - loss: 5.4308e-04\n",
      "Epoch 20/100\n",
      "2637/2637 - 51s - loss: 5.6800e-04\n",
      "Epoch 21/100\n",
      "2637/2637 - 51s - loss: 5.4517e-04\n",
      "Epoch 22/100\n",
      "2637/2637 - 51s - loss: 5.2173e-04\n",
      "Epoch 23/100\n",
      "2637/2637 - 51s - loss: 5.0942e-04\n",
      "Epoch 24/100\n",
      "2637/2637 - 51s - loss: 5.2688e-04\n",
      "Epoch 25/100\n",
      "2637/2637 - 51s - loss: 5.1357e-04\n",
      "Epoch 26/100\n",
      "2637/2637 - 51s - loss: 5.0314e-04\n",
      "Epoch 27/100\n",
      "2637/2637 - 51s - loss: 5.2226e-04\n",
      "Epoch 28/100\n",
      "2637/2637 - 51s - loss: 5.0263e-04\n",
      "Epoch 29/100\n",
      "2637/2637 - 51s - loss: 5.2008e-04\n",
      "Epoch 30/100\n",
      "2637/2637 - 51s - loss: 5.4911e-04\n",
      "Epoch 31/100\n",
      "2637/2637 - 51s - loss: 5.1637e-04\n",
      "Epoch 32/100\n",
      "2637/2637 - 51s - loss: 4.9759e-04\n",
      "Epoch 33/100\n",
      "2637/2637 - 51s - loss: 5.0599e-04\n",
      "Epoch 34/100\n",
      "2637/2637 - 51s - loss: 5.0667e-04\n",
      "Epoch 35/100\n",
      "2637/2637 - 51s - loss: 4.9448e-04\n",
      "Epoch 36/100\n",
      "2637/2637 - 51s - loss: 5.0584e-04\n",
      "Epoch 37/100\n",
      "2637/2637 - 51s - loss: 5.0313e-04\n",
      "Epoch 38/100\n",
      "2637/2637 - 51s - loss: 5.2046e-04\n",
      "Epoch 39/100\n",
      "2637/2637 - 51s - loss: 4.7397e-04\n",
      "Epoch 40/100\n",
      "2637/2637 - 51s - loss: 4.9485e-04\n",
      "Epoch 41/100\n",
      "2637/2637 - 52s - loss: 4.7331e-04\n",
      "Epoch 42/100\n",
      "2637/2637 - 51s - loss: 4.8780e-04\n",
      "Epoch 43/100\n",
      "2637/2637 - 51s - loss: 4.8466e-04\n",
      "Epoch 44/100\n",
      "2637/2637 - 51s - loss: 4.9136e-04\n",
      "Epoch 45/100\n",
      "2637/2637 - 51s - loss: 4.5753e-04\n",
      "Epoch 46/100\n",
      "2637/2637 - 51s - loss: 4.9382e-04\n",
      "Epoch 47/100\n",
      "2637/2637 - 51s - loss: 4.6346e-04\n",
      "Epoch 48/100\n",
      "2637/2637 - 51s - loss: 4.7112e-04\n",
      "Epoch 49/100\n",
      "2637/2637 - 51s - loss: 4.8404e-04\n",
      "Epoch 50/100\n",
      "2637/2637 - 51s - loss: 4.6556e-04\n",
      "Epoch 51/100\n",
      "2637/2637 - 51s - loss: 4.6418e-04\n",
      "Epoch 52/100\n",
      "2637/2637 - 51s - loss: 4.6103e-04\n",
      "Epoch 53/100\n",
      "2637/2637 - 51s - loss: 4.6889e-04\n",
      "Epoch 54/100\n",
      "2637/2637 - 51s - loss: 4.9296e-04\n",
      "Epoch 55/100\n",
      "2637/2637 - 51s - loss: 4.5948e-04\n",
      "Epoch 56/100\n",
      "2637/2637 - 51s - loss: 4.8045e-04\n",
      "Epoch 57/100\n",
      "2637/2637 - 51s - loss: 4.4438e-04\n",
      "Epoch 58/100\n",
      "2637/2637 - 51s - loss: 4.5772e-04\n",
      "Epoch 59/100\n",
      "2637/2637 - 51s - loss: 4.8047e-04\n",
      "Epoch 60/100\n",
      "2637/2637 - 51s - loss: 4.3730e-04\n",
      "Epoch 61/100\n",
      "2637/2637 - 51s - loss: 4.6405e-04\n",
      "Epoch 62/100\n",
      "2637/2637 - 51s - loss: 4.7322e-04\n",
      "Epoch 63/100\n",
      "2637/2637 - 51s - loss: 4.3442e-04\n",
      "Epoch 64/100\n",
      "2637/2637 - 51s - loss: 4.7967e-04\n",
      "Epoch 65/100\n",
      "2637/2637 - 52s - loss: 4.8751e-04\n",
      "Epoch 66/100\n",
      "2637/2637 - 52s - loss: 4.2909e-04\n",
      "Epoch 67/100\n",
      "2637/2637 - 52s - loss: 4.4229e-04\n",
      "Epoch 68/100\n",
      "2637/2637 - 52s - loss: 4.6663e-04\n",
      "Epoch 69/100\n",
      "2637/2637 - 52s - loss: 4.5188e-04\n",
      "Epoch 70/100\n",
      "2637/2637 - 52s - loss: 4.3160e-04\n",
      "Epoch 71/100\n",
      "2637/2637 - 52s - loss: 4.6425e-04\n",
      "Epoch 72/100\n",
      "2637/2637 - 52s - loss: 4.3400e-04\n",
      "Epoch 73/100\n",
      "2637/2637 - 52s - loss: 4.1822e-04\n",
      "Epoch 74/100\n",
      "2637/2637 - 52s - loss: 4.4651e-04\n",
      "Epoch 75/100\n",
      "2637/2637 - 52s - loss: 4.5906e-04\n",
      "Epoch 76/100\n",
      "2637/2637 - 52s - loss: 4.1606e-04\n",
      "Epoch 77/100\n",
      "2637/2637 - 52s - loss: 4.2738e-04\n",
      "Epoch 78/100\n",
      "2637/2637 - 52s - loss: 4.2337e-04\n",
      "Epoch 79/100\n",
      "2637/2637 - 52s - loss: 4.2151e-04\n",
      "Epoch 80/100\n",
      "2637/2637 - 52s - loss: 4.5349e-04\n",
      "Epoch 81/100\n",
      "2637/2637 - 52s - loss: 4.2142e-04\n",
      "Epoch 82/100\n",
      "2637/2637 - 52s - loss: 4.3933e-04\n",
      "Epoch 83/100\n",
      "2637/2637 - 52s - loss: 4.5191e-04\n",
      "Epoch 84/100\n",
      "2637/2637 - 52s - loss: 4.3130e-04\n",
      "Epoch 85/100\n",
      "2637/2637 - 52s - loss: 4.2679e-04\n",
      "Epoch 86/100\n",
      "2637/2637 - 52s - loss: 4.4651e-04\n",
      "Epoch 87/100\n",
      "2637/2637 - 52s - loss: 4.3630e-04\n",
      "Epoch 88/100\n",
      "2637/2637 - 52s - loss: 4.4742e-04\n",
      "Epoch 89/100\n",
      "2637/2637 - 52s - loss: 4.1766e-04\n",
      "Epoch 90/100\n",
      "2637/2637 - 52s - loss: 4.2330e-04\n",
      "Epoch 91/100\n",
      "2637/2637 - 52s - loss: 4.0307e-04\n",
      "Epoch 92/100\n",
      "2637/2637 - 52s - loss: 4.3506e-04\n",
      "Epoch 93/100\n",
      "2637/2637 - 52s - loss: 4.4328e-04\n",
      "Epoch 94/100\n",
      "2637/2637 - 52s - loss: 4.0285e-04\n",
      "Epoch 95/100\n",
      "2637/2637 - 52s - loss: 4.3875e-04\n",
      "Epoch 96/100\n",
      "2637/2637 - 52s - loss: 4.1650e-04\n",
      "Epoch 97/100\n",
      "2637/2637 - 52s - loss: 4.2353e-04\n",
      "Epoch 98/100\n",
      "2637/2637 - 52s - loss: 4.3669e-04\n",
      "Epoch 99/100\n",
      "2637/2637 - 52s - loss: 4.3409e-04\n",
      "Epoch 100/100\n",
      "2637/2637 - 52s - loss: 4.2378e-04\n"
     ]
    },
    {
     "data": {
      "text/plain": [
       "<tensorflow.python.keras.callbacks.History at 0x7f9be9149198>"
      ]
     },
     "execution_count": 85,
     "metadata": {
      "tags": []
     },
     "output_type": "execute_result"
    }
   ],
   "source": [
    "model.compile(loss='mean_squared_error', optimizer='adam')\n",
    "model.fit(trainX, trainY[:,0], epochs=100, batch_size=1, verbose=2)"
   ]
  },
  {
   "cell_type": "code",
   "execution_count": null,
   "metadata": {
    "id": "zIqQS-Kx_Now"
   },
   "outputs": [],
   "source": [
    "# make predictions\n",
    "trainPredict = model.predict(trainX)\n",
    "testPredict = model.predict(testX)"
   ]
  },
  {
   "cell_type": "code",
   "execution_count": null,
   "metadata": {
    "id": "UtAMpKAs4LOl"
   },
   "outputs": [],
   "source": [
    "# invert predictions\n",
    "trainPredict = scaler.inverse_transform(trainPredict)\n",
    "trainY = scaler.inverse_transform(trainY)\n",
    "testPredict = scaler.inverse_transform(testPredict)\n",
    "testY = scaler.inverse_transform(testY)"
   ]
  },
  {
   "cell_type": "code",
   "execution_count": null,
   "metadata": {
    "colab": {
     "base_uri": "https://localhost:8080/"
    },
    "id": "rHD3Ssc64QaG",
    "outputId": "406825e4-d9c6-4b38-9d7b-fd65c1c169c7"
   },
   "outputs": [
    {
     "data": {
      "text/plain": [
       "(2637, 1)"
      ]
     },
     "execution_count": 88,
     "metadata": {
      "tags": []
     },
     "output_type": "execute_result"
    }
   ],
   "source": [
    "np.shape(trainPredict)"
   ]
  },
  {
   "cell_type": "code",
   "execution_count": null,
   "metadata": {
    "colab": {
     "base_uri": "https://localhost:8080/"
    },
    "id": "q-wIT1Iy4SsS",
    "outputId": "1a1495bd-a931-4b04-e1d3-0430781838c7"
   },
   "outputs": [
    {
     "data": {
      "text/plain": [
       "(2637, 1)"
      ]
     },
     "execution_count": 89,
     "metadata": {
      "tags": []
     },
     "output_type": "execute_result"
    }
   ],
   "source": [
    "np.shape(trainY)"
   ]
  },
  {
   "cell_type": "code",
   "execution_count": null,
   "metadata": {
    "colab": {
     "base_uri": "https://localhost:8080/"
    },
    "id": "eUg8rf9S4Vfi",
    "outputId": "1aa61487-2424-44e2-c409-efc77e4ec004"
   },
   "outputs": [
    {
     "name": "stdout",
     "output_type": "stream",
     "text": [
      "Train Score: 1.15 RMSE\n",
      "Test Score: 9.94 RMSE\n"
     ]
    }
   ],
   "source": [
    "# calculate root mean squared error\n",
    "trainScore = math.sqrt(mean_squared_error(trainY[:,0], trainPredict[:,0]))\n",
    "print('Train Score: %.2f RMSE' % (trainScore))\n",
    "testScore = math.sqrt(mean_squared_error(testY[:,0], testPredict[:,0]))\n",
    "print('Test Score: %.2f RMSE' % (testScore))"
   ]
  },
  {
   "cell_type": "code",
   "execution_count": null,
   "metadata": {
    "colab": {
     "base_uri": "https://localhost:8080/"
    },
    "id": "aEWSe_FT4ZjG",
    "outputId": "3af853f3-5474-430a-b627-b55e8e9e29b6"
   },
   "outputs": [
    {
     "data": {
      "text/plain": [
       "(3853, 1)"
      ]
     },
     "execution_count": 91,
     "metadata": {
      "tags": []
     },
     "output_type": "execute_result"
    }
   ],
   "source": [
    "np.shape(dataset2)"
   ]
  },
  {
   "cell_type": "code",
   "execution_count": null,
   "metadata": {
    "colab": {
     "base_uri": "https://localhost:8080/"
    },
    "id": "Od8_z4-f4hBl",
    "outputId": "d8437df5-81bf-488b-f543-344fb8816974"
   },
   "outputs": [
    {
     "data": {
      "text/plain": [
       "(1096, 1)"
      ]
     },
     "execution_count": 92,
     "metadata": {
      "tags": []
     },
     "output_type": "execute_result"
    }
   ],
   "source": [
    "np.shape(testPredict)"
   ]
  },
  {
   "cell_type": "code",
   "execution_count": null,
   "metadata": {
    "colab": {
     "base_uri": "https://localhost:8080/"
    },
    "id": "AkfeEKf04g_S",
    "outputId": "22cfe6a3-8920-4866-d98c-df5d8aeb598d"
   },
   "outputs": [
    {
     "data": {
      "text/plain": [
       "(2637, 1)"
      ]
     },
     "execution_count": 93,
     "metadata": {
      "tags": []
     },
     "output_type": "execute_result"
    }
   ],
   "source": [
    "np.shape(trainPredict)"
   ]
  },
  {
   "cell_type": "code",
   "execution_count": null,
   "metadata": {
    "colab": {
     "base_uri": "https://localhost:8080/",
     "height": 265
    },
    "id": "4d9B1yDu4g8r",
    "outputId": "1a3dd135-8867-4d0b-9136-c10e8295e77b"
   },
   "outputs": [
    {
     "data": {
      "image/png": "[encoded data removed]",
      "text/plain": [
       "<Figure size 432x288 with 1 Axes>"
      ]
     },
     "metadata": {
      "needs_background": "light",
      "tags": []
     },
     "output_type": "display_data"
    }
   ],
   "source": [
    "# shift test predictions for plotting\n",
    "trainPredictPlot = np.empty_like(dataset2)\n",
    "trainPredictPlot[:, :] = np.nan\n",
    "trainPredictPlot[lag:len(trainPredict)+lag, :] = trainPredict\n",
    "testPredictPlot = np.empty_like(dataset2)\n",
    "testPredictPlot[:, :] = np.nan\n",
    "testPredictPlot[len(trainPredict)+(lag*2):len(dataset2), :] = testPredict\n",
    "# plot baseline and predictions\n",
    "plt.plot(scaler.inverse_transform(dataset2))\n",
    "plt.plot(trainPredictPlot)\n",
    "plt.plot(testPredictPlot)\n",
    "plt.show()"
   ]
  }
 ],
 "metadata": {
  "colab": {
   "collapsed_sections": [],
   "name": "StockPrice_assignment.ipynb",
   "provenance": []
  },
  "kernelspec": {
   "display_name": "Python 3",
   "language": "python",
   "name": "python3"
  },
  "language_info": {
   "codemirror_mode": {
    "name": "ipython",
    "version": 3
   },
   "file_extension": ".py",
   "mimetype": "text/x-python",
   "name": "python",
   "nbconvert_exporter": "python",
   "pygments_lexer": "ipython3",
   "version": "3.7.4"
  }
 },
 "nbformat": 4,
 "nbformat_minor": 1
}
